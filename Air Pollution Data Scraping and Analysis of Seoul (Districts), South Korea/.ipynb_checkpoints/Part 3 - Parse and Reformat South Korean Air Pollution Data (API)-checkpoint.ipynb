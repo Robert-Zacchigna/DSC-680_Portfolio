{
 "cells": [
  {
   "cell_type": "markdown",
   "metadata": {},
   "source": [
    "# Project Part 3: Parse and Reformat South Korean Air Pollution Data (API)\n",
    "# Author: Robert Zacchigna\n",
    "\n",
    "# Table of Contents\n",
    "\n",
    "* [Dataset - Seoul (Districts), South Korea Air Pollution (API)](#Dataset)\n",
    "    * [API Location](#API_Location)\n",
    "    * [Fields](#Fields)\n",
    "* [Imports](#Imports)\n",
    "* [Definitions](#Definitions)\n",
    "\n",
    "\n",
    "* **[API Data Manipulation](#API)**\n",
    "\t* [Get Air Station Coordinate (Latitude and Longitude) list from CSV Data](#Station_Coords)\n",
    "\t* [Get Air Station Data Using the API](#Get_API_Data)\n",
    "\t* [Create Dataframe to Hold Station Data](#Create_DataFrame)\n",
    "\t* [Remove Outliers and Invalid Values from API Data](#Remove_Outliers)\n",
    "\t* [Calculate AQI Data](#Calc_AQI)\n",
    "\t* [Output Reformed API Data to CSV](#Out_New_CSV)"
   ]
  },
  {
   "cell_type": "markdown",
   "metadata": {},
   "source": [
    "<a id='Dataset'></a>\n",
    "## Dataset - Seoul (Districts), South Korea Air Pollution\n",
    "\n",
    "<ins>API Location:</ins> https://aqicn.org/json-api/doc/ <a id='API_Location'></a>\n",
    "\n",
    "<ins>Fields:</ins><a id='Fields'></a>\n",
    "* __Measurement_Date__ – Date and time of air pollution measurement\n",
    "* __Country__ – Country of Origin of the air pollution reading (South Korea)\n",
    "* __City__ – City of Origin of the Air Pollution Reading (Seoul)\n",
    "* __District__ – District of origin of the air pollution reading (Seoul Districts)\n",
    "* __Latitude__ – Latitude of air pollution measurement station\n",
    "* __Longitude__ – Longitude of air pollution measurement station\n",
    "* __PM10__ – Size 10 Micrometer Diameter Particulate Matter (PM) Measurement (Mircrogram/m3)\n",
    "* __PM2.5__ – Sized 2.5 Micrometer Diameter Particulate Matter (PM)  Measurement (Mircrogram/m3)\n",
    "\n",
    "<a id='Imports'></a>\n",
    "## Imports"
   ]
  },
  {
   "cell_type": "code",
   "execution_count": 1,
   "metadata": {},
   "outputs": [],
   "source": [
    "import json\n",
    "import numpy as np\n",
    "import pandas as pd\n",
    "import requests as req\n",
    "\n",
    "from scipy import stats\n",
    "from datetime import datetime"
   ]
  },
  {
   "cell_type": "markdown",
   "metadata": {},
   "source": [
    "<a id='Definitions'></a>\n",
    "## Definitions\n",
    "\n",
    "This functions reads the CSV data from part 1, specifically retrieving the latitude and longitude of the stations collecting the air pollution data, and outputs the coordinates in the form of a dict by each district in Seoul."
   ]
  },
  {
   "cell_type": "code",
   "execution_count": 2,
   "metadata": {},
   "outputs": [],
   "source": [
    "def getStationCoordinates(airData):\n",
    "    \n",
    "    # Get only unique values from each of the specified columns\n",
    "    district = airData['District'].unique()\n",
    "    lat = airData['Latitude'].unique()\n",
    "    long = airData['Longitude'].unique()\n",
    "    \n",
    "    # Create dict containing each districts air station coordinates\n",
    "    coorDict = {}\n",
    "    for i in range(len(district)):\n",
    "        coorDict.update({district[i]: {'lat': lat[i], 'long': long[i]}})\n",
    "\n",
    "    return coorDict"
   ]
  },
  {
   "cell_type": "markdown",
   "metadata": {},
   "source": [
    "Using the waqi API, this function retrieves air pollution information about each of the districts coordinates collected from the CSV data (gathered using the getStationCoordinates function above). Specifically getting the week forecast of PM10 and PM2.5 pollutants in the air."
   ]
  },
  {
   "cell_type": "code",
   "execution_count": 3,
   "metadata": {},
   "outputs": [],
   "source": [
    "def getStationData(coorDict, API_KEY_json_file):\n",
    "    \n",
    "    # API URL and API Key\n",
    "    url = 'https://api.waqi.info/feed/'\n",
    "    \n",
    "    with open(API_KEY_json_file) as key:\n",
    "        api_key = json.load(key)['API_KEY']\n",
    "    \n",
    "    # Create a dict containing air pollution information about each district using their coordinates\n",
    "    stationData = {}\n",
    "    for district in coorDict.keys():\n",
    "        \n",
    "        # Get the latitude and longitude of the district station\n",
    "        lat = coorDict[district]['lat']\n",
    "        long = coorDict[district]['long']\n",
    "        \n",
    "        # Create the URL to get the information from the API\n",
    "        content = req.get(url + 'geo:' + str(lat) + ';' + str(long) + '/?token=' + api_key).json()\n",
    "        \n",
    "        # Create the dict to store all the data gathered from the API\n",
    "        stationData.update({district: {'Coor': {'lat': content['data']['city']['geo'][0],\n",
    "                                                'long': content['data']['city']['geo'][1]},\n",
    "                                       'Data': {}}})\n",
    "        \n",
    "        # Parse through the forecast data gathered from the API\n",
    "        # into the station data dict for later manipulation\n",
    "        for val in ['pm10', 'pm25']:\n",
    "            dates = []\n",
    "            avgs = []\n",
    "\n",
    "            for i in range(len(content['data']['forecast']['daily'][val])):\n",
    "                dates += [datetime.strptime(content['data']['forecast']['daily'][val][i]['day'],\n",
    "                                            '%Y-%m-%d').strftime('%m/%d/%Y')[1:]]\n",
    "                avgs += [content['data']['forecast']['daily'][val][i]['avg']]\n",
    "\n",
    "            stationData[district]['Data'][val] = {'Dates': dates, 'Avgs': avgs}\n",
    "\n",
    "    return stationData"
   ]
  },
  {
   "cell_type": "markdown",
   "metadata": {},
   "source": [
    "This functions takes the data gathered from the API and formats it into a dataframe"
   ]
  },
  {
   "cell_type": "code",
   "execution_count": 4,
   "metadata": {},
   "outputs": [],
   "source": [
    "def createAirData_Dataframe(stationData):\n",
    "    tempDfList = []\n",
    "    \n",
    "    # Create a dataframe for each of the districts in the station data dict\n",
    "    for district in stationData.keys():\n",
    "        newDf = pd.DataFrame({\n",
    "            'Measurement_Date': stationData[district]['Data']['pm10']['Dates'],\n",
    "            'Country': ['Republic of Korea'] * len(stationData[district]['Data']['pm10']['Dates']),\n",
    "            'City': ['Seoul'] * len(stationData[district]['Data']['pm10']['Dates']),\n",
    "            'District': [district] * len(stationData[district]['Data']['pm10']['Dates']),\n",
    "            'Latitude': [stationData[district]['Coor']['lat']] * len(stationData[district]['Data']['pm10']['Dates']),\n",
    "            'Longitude': [stationData[district]['Coor']['long']] * len(stationData[district]['Data']['pm10']['Dates']),\n",
    "            'PM10': stationData[district]['Data']['pm10']['Avgs'],\n",
    "            'PM2.5': stationData[district]['Data']['pm25']['Avgs'],\n",
    "        })\n",
    "\n",
    "        tempDfList.append(newDf)\n",
    "    \n",
    "    # Empty dataframe is created with the right column names\n",
    "    tempDf = pd.DataFrame(columns=['Measurement_Date', 'Country', 'City', 'District',\n",
    "                                   'Latitude', 'Longitude', 'PM10', 'PM2.5'])\n",
    "    \n",
    "    # Loops through the temp dataframe list and appends them all into one dataframe\n",
    "    airData = tempDf.append([df for df in tempDfList])\n",
    "\n",
    "    return airData"
   ]
  },
  {
   "cell_type": "markdown",
   "metadata": {},
   "source": [
    "This function applies a filter to the reformatted data to remove any outliers that might skew the data. The filter checks to make sure that the data in the data column(s) (PM10 and PM2.5) is within -3 and +3 standard deviations away from the mean for that column."
   ]
  },
  {
   "cell_type": "code",
   "execution_count": 5,
   "metadata": {},
   "outputs": [],
   "source": [
    "def filterData(data):\n",
    "    # The column(s) that hold numeric data\n",
    "    dataCols = ['PM10', 'PM2.5']\n",
    "    \n",
    "    # Making sure that the data in data columns is numeric and not string\n",
    "    for col in dataCols:\n",
    "        data[col] = pd.to_numeric(data[col])\n",
    "\n",
    "    # This applies a filter to all the data columns of the dataframe:\n",
    "    # * For each column, it first computes the Z-score of each value \n",
    "    #   in the column relative to the column mean and standard deviation.\n",
    "    # * If the score is not within -3 and +3 standard deviations away from the mean for that \n",
    "    #   column, then the record is filtered out of the dataframe (thus removing the outliers)\n",
    "    filteredData = data[(np.abs(stats.zscore(data[dataCols])) < 3).all(axis=1)]\n",
    "    \n",
    "    # This filter removes any data that is less than zero because\n",
    "    # the measurement of pollutants in the air cannot go below zero\n",
    "    filteredData = filteredData[(filteredData[dataCols] >= 0).all(axis=1)]\n",
    "\n",
    "    print('Total number of rows BEFORE data is removed: {:,}\\n Total number of rows AFTER data is removed: {:,}\\n'\n",
    "          '====================================================\\n\\t       Total number of rows removed: {:>3,}'\n",
    "          .format(len(data.index), len(filteredData.index), len(data.index) - len(filteredData.index)))\n",
    "    \n",
    "    return filteredData"
   ]
  },
  {
   "cell_type": "markdown",
   "metadata": {},
   "source": [
    "This function calculates the AQI (Air Quality Index) value, typically calculated from PM2.5 and determines its risk level. The AQI formula, value ranges and risk levels were all taken from the \n",
    "<a href=\"https://www.airnow.gov/aqi/aqi-basics/\">EPA</a> (Environmental Protection Agency) of the USA."
   ]
  },
  {
   "cell_type": "code",
   "execution_count": 6,
   "metadata": {},
   "outputs": [],
   "source": [
    "def calculate_AQI(airData):\n",
    "    airData = airData.reset_index(drop=True)\n",
    "    \n",
    "    aqiValues = []\n",
    "    riskLevel = []\n",
    "\n",
    "    for i in range(len(airData)):\n",
    "        i_low = 0\n",
    "        i_high = 0\n",
    "\n",
    "        c_low = 0\n",
    "        c_high = 0\n",
    "\n",
    "        # PM2.5 AQI Value Calculation\n",
    "        if 0 <= airData['PM2.5'][i] <= 12:\n",
    "            c_low = 0\n",
    "            c_high = 12\n",
    "\n",
    "            i_low = 0\n",
    "            i_high = 50\n",
    "            \n",
    "        elif 12.1 <= airData['PM2.5'][i] <= 35.4:\n",
    "            c_low = 12.1\n",
    "            c_high = 35.4\n",
    "\n",
    "            i_low = 51\n",
    "            i_high = 100\n",
    "            \n",
    "        elif 35.5 <= airData['PM2.5'][i] <= 55.4:\n",
    "            c_low = 35.5\n",
    "            c_high = 55.4\n",
    "\n",
    "            i_low = 101\n",
    "            i_high = 150\n",
    "            \n",
    "        elif 55.5 <= airData['PM2.5'][i] <= 150.4:\n",
    "            c_low = 55.5\n",
    "            c_high = 150.4\n",
    "\n",
    "            i_low = 151\n",
    "            i_high = 200\n",
    "            \n",
    "        elif 150.5 <= airData['PM2.5'][i] <= 250.4:\n",
    "            c_low = 150.5\n",
    "            c_high = 250.4\n",
    "\n",
    "            i_low = 201\n",
    "            i_high = 300\n",
    "            \n",
    "        elif 250.5 <= airData['PM2.5'][i] <= 350.4:\n",
    "            c_low = 250.5\n",
    "            c_high = 350.4\n",
    "\n",
    "            i_low = 301\n",
    "            i_high = 400\n",
    "            \n",
    "        elif 350.5 <= airData['PM2.5'][i] <= 500.4:\n",
    "            c_low = 350.5\n",
    "            c_high = 500.4\n",
    "\n",
    "            i_low = 401\n",
    "            i_high = 500\n",
    "        \n",
    "        # AQI Formula\n",
    "        aqiValues += [int(round(((i_high - i_low) / (c_high - c_low)) * \n",
    "                                (airData['PM2.5'][i] - c_low) + i_low, 0))]\n",
    "\n",
    "        # Determine AQI Risk Level\n",
    "        if 0 <= aqiValues[i] <= 50:\n",
    "            riskLevel += ['Good']\n",
    "        elif 51 <= aqiValues[i] <= 100:\n",
    "            riskLevel += ['Moderate']\n",
    "        elif 101 <= aqiValues[i] <= 150:\n",
    "            riskLevel += ['Unhealthy for Sensitive Groups']\n",
    "        elif 151 <= aqiValues[i] <= 200:\n",
    "            riskLevel += ['Unhealthy']\n",
    "        elif 201 <= aqiValues[i] <= 300:\n",
    "            riskLevel += ['Very Unhealthy']\n",
    "        elif 301 <= aqiValues[i] <= 500:\n",
    "            riskLevel += ['Hazardous']\n",
    "    \n",
    "    # Add the AQI values to the data frame\n",
    "    airData['AQI_(PM2.5)'] = aqiValues\n",
    "    airData['AQI_Risk_Level'] = riskLevel\n",
    "\n",
    "    return airData"
   ]
  },
  {
   "cell_type": "markdown",
   "metadata": {},
   "source": [
    "<a id='API'></a>\n",
    "# API Data Manipulation\n",
    "\n",
    "<a id='Station_Coords'></a>\n",
    "## Get Air Station Coordinate (Latitude and Longitude) list from CSV Data"
   ]
  },
  {
   "cell_type": "code",
   "execution_count": 7,
   "metadata": {},
   "outputs": [
    {
     "name": "stdout",
     "output_type": "stream",
     "text": [
      "Total Number of District Stations: 25\n",
      "\n",
      "District:       Jongno-gu, Coordinates: 37.5720164 (Latitude), 127.0050075 (Longitude)\n",
      "District:         Jung-gu, Coordinates: 37.5642629 (Latitude), 126.9746757 (Longitude)\n",
      "District:      Yongsan-gu, Coordinates: 37.5400327 (Latitude), 127.00485 (Longitude)\n",
      "District:    Eunpyeong-gu, Coordinates: 37.6098232 (Latitude), 126.9348476 (Longitude)\n",
      "District:    Seodaemun-gu, Coordinates: 37.5937421 (Latitude), 126.9496787 (Longitude)\n",
      "District:         Mapo-gu, Coordinates: 37.5555803 (Latitude), 126.9055975 (Longitude)\n",
      "District:    Seongdong-gu, Coordinates: 37.5418642 (Latitude), 127.0496589 (Longitude)\n",
      "District:     Gwangjin-gu, Coordinates: 37.5471803 (Latitude), 127.0924929 (Longitude)\n",
      "District:   Dongdaemun-gu, Coordinates: 37.5757428 (Latitude), 127.0288848 (Longitude)\n",
      "District:     Jungnang-gu, Coordinates: 37.5848485 (Latitude), 127.0940229 (Longitude)\n",
      "District:     Seongbuk-gu, Coordinates: 37.6067189 (Latitude), 127.0272794 (Longitude)\n",
      "District:      Gangbuk-gu, Coordinates: 37.6479299 (Latitude), 127.0119518 (Longitude)\n",
      "District:       Dobong-gu, Coordinates: 37.6541919 (Latitude), 127.0290879 (Longitude)\n",
      "District:        Nowon-gu, Coordinates: 37.6587743 (Latitude), 127.0685054 (Longitude)\n",
      "District:    Yangcheon-gu, Coordinates: 37.5259388 (Latitude), 126.8566029 (Longitude)\n",
      "District:      Gangseo-gu, Coordinates: 37.54464 (Latitude), 126.8351506 (Longitude)\n",
      "District:         Guro-gu, Coordinates: 37.4984981 (Latitude), 126.8896924 (Longitude)\n",
      "District:    Geumcheon-gu, Coordinates: 37.4523569 (Latitude), 126.9082956 (Longitude)\n",
      "District: Yeongdeungpo-gu, Coordinates: 37.5250065 (Latitude), 126.8973705 (Longitude)\n",
      "District:      Dongjak-gu, Coordinates: 37.4809167 (Latitude), 126.9714807 (Longitude)\n",
      "District:       Gwanak-gu, Coordinates: 37.4873546 (Latitude), 126.927102 (Longitude)\n",
      "District:       Seocho-gu, Coordinates: 37.5045471 (Latitude), 126.9944578 (Longitude)\n",
      "District:      Gangnam-gu, Coordinates: 37.5175282 (Latitude), 127.0474699 (Longitude)\n",
      "District:       Songpa-gu, Coordinates: 37.5026857 (Latitude), 127.0925092 (Longitude)\n",
      "District:     Gangdong-gu, Coordinates: 37.5449625 (Latitude), 127.1367917 (Longitude)\n"
     ]
    }
   ],
   "source": [
    "airData = pd.read_csv('CSV-Air_Pollution_Data-(Reformed_and_AQI_Values).csv')\n",
    "\n",
    "coorDict = getStationCoordinates(airData)\n",
    "\n",
    "print('Total Number of District Stations: ' + str(len(coorDict.keys())) + '\\n')\n",
    "\n",
    "for district in coorDict.keys():\n",
    "    print('District: {:>15}, Coordinates: '.format(district) + \n",
    "          str(round(coorDict[district]['lat'], 8)) + ' (Latitude), ' + \n",
    "          str(round(coorDict[district]['long'], 8)) + ' (Longitude)')"
   ]
  },
  {
   "cell_type": "markdown",
   "metadata": {},
   "source": [
    "<a id='Get_API_Data'></a>\n",
    "## Get Air Station Data Using the API"
   ]
  },
  {
   "cell_type": "code",
   "execution_count": 8,
   "metadata": {},
   "outputs": [
    {
     "data": {
      "text/plain": [
       "{'Coor': {'lat': 37.572025, 'long': 127.005028},\n",
       " 'Data': {'pm10': {'Dates': ['7/15/2020',\n",
       "    '7/16/2020',\n",
       "    '7/17/2020',\n",
       "    '7/18/2020',\n",
       "    '7/19/2020',\n",
       "    '7/20/2020',\n",
       "    '7/21/2020',\n",
       "    '7/22/2020',\n",
       "    '7/23/2020',\n",
       "    '7/24/2020'],\n",
       "   'Avgs': [15, 24, 24, 26, 27, 49, 64, 57, 32, 30]},\n",
       "  'pm25': {'Dates': ['7/15/2020',\n",
       "    '7/16/2020',\n",
       "    '7/17/2020',\n",
       "    '7/18/2020',\n",
       "    '7/19/2020',\n",
       "    '7/20/2020',\n",
       "    '7/21/2020',\n",
       "    '7/22/2020',\n",
       "    '7/23/2020',\n",
       "    '7/24/2020'],\n",
       "   'Avgs': [40, 75, 77, 84, 81, 125, 159, 151, 101, 93]}}}"
      ]
     },
     "execution_count": 8,
     "metadata": {},
     "output_type": "execute_result"
    }
   ],
   "source": [
    "# Replace WAQI_API_KEY.json with where your API Key is stored and make sure\n",
    "# the key is specified as '\"API_KEY\": \"<your key here>\"\"' in the json file\n",
    "stationData = getStationData(coorDict, 'WAQI_API_KEY.json')\n",
    "\n",
    "# Just the first district in the dict to show the data's structure\n",
    "stationData[list(stationData.keys())[0]]"
   ]
  },
  {
   "cell_type": "markdown",
   "metadata": {},
   "source": [
    "<a id='Create_DataFrame'></a>\n",
    "## Create Dataframe to Hold Station Data"
   ]
  },
  {
   "cell_type": "code",
   "execution_count": 9,
   "metadata": {},
   "outputs": [
    {
     "data": {
      "text/html": [
       "<div>\n",
       "<style scoped>\n",
       "    .dataframe tbody tr th:only-of-type {\n",
       "        vertical-align: middle;\n",
       "    }\n",
       "\n",
       "    .dataframe tbody tr th {\n",
       "        vertical-align: top;\n",
       "    }\n",
       "\n",
       "    .dataframe thead th {\n",
       "        text-align: right;\n",
       "    }\n",
       "</style>\n",
       "<table border=\"1\" class=\"dataframe\">\n",
       "  <thead>\n",
       "    <tr style=\"text-align: right;\">\n",
       "      <th></th>\n",
       "      <th>Measurement_Date</th>\n",
       "      <th>Country</th>\n",
       "      <th>City</th>\n",
       "      <th>District</th>\n",
       "      <th>Latitude</th>\n",
       "      <th>Longitude</th>\n",
       "      <th>PM10</th>\n",
       "      <th>PM2.5</th>\n",
       "    </tr>\n",
       "  </thead>\n",
       "  <tbody>\n",
       "    <tr>\n",
       "      <th>0</th>\n",
       "      <td>7/15/2020</td>\n",
       "      <td>Republic of Korea</td>\n",
       "      <td>Seoul</td>\n",
       "      <td>Jongno-gu</td>\n",
       "      <td>37.572025</td>\n",
       "      <td>127.005028</td>\n",
       "      <td>15</td>\n",
       "      <td>40</td>\n",
       "    </tr>\n",
       "    <tr>\n",
       "      <th>1</th>\n",
       "      <td>7/16/2020</td>\n",
       "      <td>Republic of Korea</td>\n",
       "      <td>Seoul</td>\n",
       "      <td>Jongno-gu</td>\n",
       "      <td>37.572025</td>\n",
       "      <td>127.005028</td>\n",
       "      <td>24</td>\n",
       "      <td>75</td>\n",
       "    </tr>\n",
       "    <tr>\n",
       "      <th>2</th>\n",
       "      <td>7/17/2020</td>\n",
       "      <td>Republic of Korea</td>\n",
       "      <td>Seoul</td>\n",
       "      <td>Jongno-gu</td>\n",
       "      <td>37.572025</td>\n",
       "      <td>127.005028</td>\n",
       "      <td>24</td>\n",
       "      <td>77</td>\n",
       "    </tr>\n",
       "    <tr>\n",
       "      <th>3</th>\n",
       "      <td>7/18/2020</td>\n",
       "      <td>Republic of Korea</td>\n",
       "      <td>Seoul</td>\n",
       "      <td>Jongno-gu</td>\n",
       "      <td>37.572025</td>\n",
       "      <td>127.005028</td>\n",
       "      <td>26</td>\n",
       "      <td>84</td>\n",
       "    </tr>\n",
       "    <tr>\n",
       "      <th>4</th>\n",
       "      <td>7/19/2020</td>\n",
       "      <td>Republic of Korea</td>\n",
       "      <td>Seoul</td>\n",
       "      <td>Jongno-gu</td>\n",
       "      <td>37.572025</td>\n",
       "      <td>127.005028</td>\n",
       "      <td>27</td>\n",
       "      <td>81</td>\n",
       "    </tr>\n",
       "  </tbody>\n",
       "</table>\n",
       "</div>"
      ],
      "text/plain": [
       "  Measurement_Date            Country   City   District   Latitude  \\\n",
       "0        7/15/2020  Republic of Korea  Seoul  Jongno-gu  37.572025   \n",
       "1        7/16/2020  Republic of Korea  Seoul  Jongno-gu  37.572025   \n",
       "2        7/17/2020  Republic of Korea  Seoul  Jongno-gu  37.572025   \n",
       "3        7/18/2020  Republic of Korea  Seoul  Jongno-gu  37.572025   \n",
       "4        7/19/2020  Republic of Korea  Seoul  Jongno-gu  37.572025   \n",
       "\n",
       "    Longitude PM10 PM2.5  \n",
       "0  127.005028   15    40  \n",
       "1  127.005028   24    75  \n",
       "2  127.005028   24    77  \n",
       "3  127.005028   26    84  \n",
       "4  127.005028   27    81  "
      ]
     },
     "execution_count": 9,
     "metadata": {},
     "output_type": "execute_result"
    }
   ],
   "source": [
    "airData = createAirData_Dataframe(stationData)\n",
    "\n",
    "airData.head()"
   ]
  },
  {
   "cell_type": "markdown",
   "metadata": {},
   "source": [
    "<a id='Remove_Outliers'></a>\n",
    "## Remove Outliers and Invalid Values from API Data"
   ]
  },
  {
   "cell_type": "code",
   "execution_count": 10,
   "metadata": {},
   "outputs": [
    {
     "name": "stdout",
     "output_type": "stream",
     "text": [
      "Total number of rows BEFORE data is removed: 232\n",
      " Total number of rows AFTER data is removed: 232\n",
      "====================================================\n",
      "\t       Total number of rows removed:   0\n"
     ]
    }
   ],
   "source": [
    "filteredData = filterData(airData)"
   ]
  },
  {
   "cell_type": "markdown",
   "metadata": {},
   "source": [
    "<a id='Calc_AQI'></a>\n",
    "## Calculate AQI Data"
   ]
  },
  {
   "cell_type": "code",
   "execution_count": 11,
   "metadata": {},
   "outputs": [
    {
     "name": "stdout",
     "output_type": "stream",
     "text": [
      "New columns: Measurement_Date, Country, City, District, Latitude, Longitude, PM10, PM2.5, AQI_(PM2.5), AQI_Risk_Level\n"
     ]
    }
   ],
   "source": [
    "airData = calculate_AQI(filteredData)\n",
    "\n",
    "# Two new columns added: AQI_(PM2.5) and AQI_Risk_Level\n",
    "print('New columns: ' + ', '.join(list(airData.keys())))"
   ]
  },
  {
   "cell_type": "code",
   "execution_count": 12,
   "metadata": {},
   "outputs": [
    {
     "data": {
      "text/html": [
       "<div>\n",
       "<style scoped>\n",
       "    .dataframe tbody tr th:only-of-type {\n",
       "        vertical-align: middle;\n",
       "    }\n",
       "\n",
       "    .dataframe tbody tr th {\n",
       "        vertical-align: top;\n",
       "    }\n",
       "\n",
       "    .dataframe thead th {\n",
       "        text-align: right;\n",
       "    }\n",
       "</style>\n",
       "<table border=\"1\" class=\"dataframe\">\n",
       "  <thead>\n",
       "    <tr style=\"text-align: right;\">\n",
       "      <th></th>\n",
       "      <th>Measurement_Date</th>\n",
       "      <th>Country</th>\n",
       "      <th>City</th>\n",
       "      <th>District</th>\n",
       "      <th>Latitude</th>\n",
       "      <th>Longitude</th>\n",
       "      <th>PM10</th>\n",
       "      <th>PM2.5</th>\n",
       "      <th>AQI_(PM2.5)</th>\n",
       "      <th>AQI_Risk_Level</th>\n",
       "    </tr>\n",
       "  </thead>\n",
       "  <tbody>\n",
       "    <tr>\n",
       "      <th>0</th>\n",
       "      <td>7/15/2020</td>\n",
       "      <td>Republic of Korea</td>\n",
       "      <td>Seoul</td>\n",
       "      <td>Jongno-gu</td>\n",
       "      <td>37.572025</td>\n",
       "      <td>127.005028</td>\n",
       "      <td>15</td>\n",
       "      <td>40</td>\n",
       "      <td>112</td>\n",
       "      <td>Unhealthy for Sensitive Groups</td>\n",
       "    </tr>\n",
       "    <tr>\n",
       "      <th>1</th>\n",
       "      <td>7/16/2020</td>\n",
       "      <td>Republic of Korea</td>\n",
       "      <td>Seoul</td>\n",
       "      <td>Jongno-gu</td>\n",
       "      <td>37.572025</td>\n",
       "      <td>127.005028</td>\n",
       "      <td>24</td>\n",
       "      <td>75</td>\n",
       "      <td>161</td>\n",
       "      <td>Unhealthy</td>\n",
       "    </tr>\n",
       "    <tr>\n",
       "      <th>2</th>\n",
       "      <td>7/17/2020</td>\n",
       "      <td>Republic of Korea</td>\n",
       "      <td>Seoul</td>\n",
       "      <td>Jongno-gu</td>\n",
       "      <td>37.572025</td>\n",
       "      <td>127.005028</td>\n",
       "      <td>24</td>\n",
       "      <td>77</td>\n",
       "      <td>162</td>\n",
       "      <td>Unhealthy</td>\n",
       "    </tr>\n",
       "    <tr>\n",
       "      <th>3</th>\n",
       "      <td>7/18/2020</td>\n",
       "      <td>Republic of Korea</td>\n",
       "      <td>Seoul</td>\n",
       "      <td>Jongno-gu</td>\n",
       "      <td>37.572025</td>\n",
       "      <td>127.005028</td>\n",
       "      <td>26</td>\n",
       "      <td>84</td>\n",
       "      <td>166</td>\n",
       "      <td>Unhealthy</td>\n",
       "    </tr>\n",
       "    <tr>\n",
       "      <th>4</th>\n",
       "      <td>7/19/2020</td>\n",
       "      <td>Republic of Korea</td>\n",
       "      <td>Seoul</td>\n",
       "      <td>Jongno-gu</td>\n",
       "      <td>37.572025</td>\n",
       "      <td>127.005028</td>\n",
       "      <td>27</td>\n",
       "      <td>81</td>\n",
       "      <td>164</td>\n",
       "      <td>Unhealthy</td>\n",
       "    </tr>\n",
       "  </tbody>\n",
       "</table>\n",
       "</div>"
      ],
      "text/plain": [
       "  Measurement_Date            Country   City   District   Latitude  \\\n",
       "0        7/15/2020  Republic of Korea  Seoul  Jongno-gu  37.572025   \n",
       "1        7/16/2020  Republic of Korea  Seoul  Jongno-gu  37.572025   \n",
       "2        7/17/2020  Republic of Korea  Seoul  Jongno-gu  37.572025   \n",
       "3        7/18/2020  Republic of Korea  Seoul  Jongno-gu  37.572025   \n",
       "4        7/19/2020  Republic of Korea  Seoul  Jongno-gu  37.572025   \n",
       "\n",
       "    Longitude  PM10  PM2.5  AQI_(PM2.5)                  AQI_Risk_Level  \n",
       "0  127.005028    15     40          112  Unhealthy for Sensitive Groups  \n",
       "1  127.005028    24     75          161                       Unhealthy  \n",
       "2  127.005028    24     77          162                       Unhealthy  \n",
       "3  127.005028    26     84          166                       Unhealthy  \n",
       "4  127.005028    27     81          164                       Unhealthy  "
      ]
     },
     "execution_count": 12,
     "metadata": {},
     "output_type": "execute_result"
    }
   ],
   "source": [
    "airData.head()"
   ]
  },
  {
   "cell_type": "markdown",
   "metadata": {},
   "source": [
    "<a id='Out_New_CSV'></a>\n",
    "## Output Reformed API Data to CSV"
   ]
  },
  {
   "cell_type": "code",
   "execution_count": 13,
   "metadata": {},
   "outputs": [
    {
     "name": "stdout",
     "output_type": "stream",
     "text": [
      "Final size of data: 10 columns and 232 rows\n"
     ]
    }
   ],
   "source": [
    "print('Final size of data: {:,} columns and {:,} rows'.format(airData.shape[1], airData.shape[0]))"
   ]
  },
  {
   "cell_type": "code",
   "execution_count": 14,
   "metadata": {},
   "outputs": [],
   "source": [
    "airData.to_csv('Reformed_Data/API-Air_Pollution_Data-(Reformed_and_AQI_Values).csv', index=False)"
   ]
  },
  {
   "cell_type": "code",
   "execution_count": null,
   "metadata": {},
   "outputs": [],
   "source": []
  }
 ],
 "metadata": {
  "kernelspec": {
   "display_name": "Python 3 (ipykernel)",
   "language": "python",
   "name": "python3"
  },
  "language_info": {
   "codemirror_mode": {
    "name": "ipython",
    "version": 3
   },
   "file_extension": ".py",
   "mimetype": "text/x-python",
   "name": "python",
   "nbconvert_exporter": "python",
   "pygments_lexer": "ipython3",
   "version": "3.8.2"
  },
  "toc": {
   "base_numbering": 1,
   "nav_menu": {},
   "number_sections": false,
   "sideBar": true,
   "skip_h1_title": false,
   "title_cell": "Table of Contents",
   "title_sidebar": "Contents",
   "toc_cell": false,
   "toc_position": {},
   "toc_section_display": true,
   "toc_window_display": true
  }
 },
 "nbformat": 4,
 "nbformat_minor": 4
}
