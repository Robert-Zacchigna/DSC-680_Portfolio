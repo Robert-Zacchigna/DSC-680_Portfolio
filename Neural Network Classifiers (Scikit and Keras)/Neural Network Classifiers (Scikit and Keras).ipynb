{
 "cells": [
  {
   "cell_type": "markdown",
   "metadata": {},
   "source": [
    "# Project: Neural Network Classifiers (Scikit and Keras)\n",
    "# Author: Robert Zacchigna\n",
    "\n",
    "* [Dataset - Categorical Comment Texts](#Dataset)\n",
    "    * [Columns](#Columns)\n",
    "* [Imports](#Imports)\n",
    "* [Classes](#Classes)\n",
    "\n",
    "\n",
    "* [Load and Clean Comment Data](#Clean_Data)\n",
    "    * [Clean Text Data: Lower, Remove Punctuation, Remove Stopwords and Stem Words](#Clean_Text)\n",
    "    * [Split Data Into Train and Test Sets](#Split_Dataset)\n",
    "        * [Training Set: Feature Data](#Train_Set)\n",
    "        * [Training Set: Target Data](#Test_Set)\n",
    "\n",
    "\n",
    "* **[Part 1: Neural Network Classifier with Scikit](#Part_1)**\n",
    "    * [Create Model Classification Pipeline with TfidfVectorizer and MLPClassifier (Neural Net)](#Part_1-Scikit_Pipe)\n",
    "\t* [Setup Parameter Grid and Fit Pipeline and Parameters to GridSearchCV](#Part_1-Scikit_Grid)\n",
    "\t* [Fit Training Data to Classification Grid to Find the Best Parameters for the Model](#Part_1-Scikit_Fit_Grid)\n",
    "\t* [Display Top Model Scores Found by GridSearchCV](#Part_1-Scikit_Top_Scores)\n",
    "\t* [Best Score Found From Classification Grid](#Part_1-Scikit_Best_Scores)\n",
    "\t* [Best Parameters Found from Classification Grid](#Part_1-Scikit_Best_Params)\n",
    "\t* [Make Predictions Using Classification Grid](#Part_1-Scikit_Predict_Grid)\n",
    "\t* [Calculate Model Prediction Metric Scores: Accuracy, Precision, Recall, and F1](#Part_1-Scikit_Metric_Scores)\n",
    "\t* [Create a Confusion Matrix with the Model Predictions](#Part_1-Scikit_Conf_Mat)\n",
    "\n",
    "\n",
    "* **[Part 2: Model Analysis](#Part_2)**\n",
    "    * [Create Function to Build Keras Neural Net](#Part_2-Build_Keras)\n",
    "\t* [Create TfidfVectorizer and KerasClassifier (Neural Net) Models](#Part_2-Create_Keras_Class)\n",
    "\t* [TfidfVectorize and fit_transform Training and Test Sets](#Part_2-Keras_Vect_Fit)\n",
    "\t* [Setup Parameter Grid and Fit the Pipeline and Parameters to GridSearchCV](#Part_2-Keras_Grid)\n",
    "\t* [Fit TfidfVectorized Training data to Keras Grid to Find the Best Parameters for the Model](#Part_2-Keras_Fit_Tfid)\n",
    "\t* [Display Top Model Scores Found by GridSearchCV](#Part_2-Keras_Top_Scores)\n",
    "\t* [Best Score Found from the Keras Grid](#Part_2-Keras_Best_Score)\n",
    "\t* [Best Parameters Found from the Keras Grid](#Part_2-Keras_Best_Params)\n",
    "\t* [Make Predictions Using the Keras Grid](#Part_2-Keras_Predict)\n",
    "\t* [Calculate Model Prediction Metric Scores: Accuracy, Precision, Recall, and F1](#Part_2-Keras_Metric_Scores)\n",
    "\t* [Create a Confusion Matrix with the Model Predictions](#Part_2-Keras_Conf_Mat)\n",
    "\n",
    "\n",
    "* **[Part 3: Classifying MNIST Images](#Part_3)**\n",
    "    * [Parse and Split Image Dataset](#Part_3-Parse_Split)\n",
    "    * [Create Keras Image Classification Model](#Part_3-Create_Model)\n",
    "    * [Model Summary](#Part_3-Model_Summary)\n",
    "    * [Train Keras Model](#Part_3-Train_Model)\n",
    "\t* [Display Accuracy and Loss Scores](#Part_3-Keras_Acc_Loss_Scores)"
   ]
  },
  {
   "cell_type": "markdown",
   "metadata": {},
   "source": [
    "<a id='Dataset'></a>\n",
    "## Dataset - Categorical Comment Texts\n",
    "\n",
    "<ins>Columns:</ins><a id='Columns'></a>\n",
    "* __cat__ – Topical category for the comment text (Sports, Video Games, etc...)\n",
    "* __txt__ – Comment text\n",
    "\n",
    "<a id='Imports'></a>\n",
    "## Imports"
   ]
  },
  {
   "cell_type": "code",
   "execution_count": 1,
   "metadata": {
    "ExecuteTime": {
     "end_time": "2021-11-06T04:11:38.503001Z",
     "start_time": "2021-11-06T04:11:32.662304Z"
    }
   },
   "outputs": [
    {
     "name": "stdout",
     "output_type": "stream",
     "text": [
      "Library Versions\n",
      "================\n",
      "                       nltk = 3.5\n",
      "                      numpy = 1.19.5\n",
      "                      keras = 2.4.3\n",
      "                     pandas = 1.3.3\n",
      "                    sklearn = 0.23.2\n",
      "                    mlxtend = 0.19.0\n",
      "                 matplotlib = 3.3.4\n",
      "Jupyter Notebook (notebook) = 6.4.5\n"
     ]
    }
   ],
   "source": [
    "import sys\n",
    "import unicodedata\n",
    "import numpy as np\n",
    "import pandas as pd\n",
    "\n",
    "from notebook import __version__ as nbv\n",
    "\n",
    "# matplotlib Libraries\n",
    "import matplotlib.pyplot as plt\n",
    "from matplotlib import __version__ as mpv\n",
    "\n",
    "# mlxtend Libraries\n",
    "from mlxtend.plotting import plot_confusion_matrix\n",
    "from mlxtend import __version__ as mlxv\n",
    "\n",
    "# NLTK Libraries\n",
    "from nltk import __version__ as nltkv\n",
    "from nltk import pos_tag\n",
    "from nltk import word_tokenize\n",
    "from nltk.corpus import stopwords\n",
    "from nltk.stem.porter import PorterStemmer\n",
    "\n",
    "# Sklearn Libraries\n",
    "from sklearn import __version__ as skv\n",
    "from sklearn.pipeline import Pipeline\n",
    "from sklearn.neural_network import MLPClassifier\n",
    "from sklearn.feature_extraction.text import TfidfVectorizer\n",
    "from sklearn.model_selection import GridSearchCV, train_test_split\n",
    "from sklearn.metrics import precision_score, f1_score, accuracy_score, recall_score, confusion_matrix\n",
    "\n",
    "# Keras Libraries\n",
    "from keras import __version__ as kv\n",
    "from keras import backend as K\n",
    "from keras.datasets import mnist\n",
    "from keras.utils import np_utils\n",
    "from keras.models import Sequential\n",
    "from keras.layers import Dense, Dropout, Flatten\n",
    "from keras.wrappers.scikit_learn import KerasClassifier\n",
    "from keras.layers.convolutional import Conv2D, MaxPooling2D\n",
    "\n",
    "\n",
    "# Library Versions\n",
    "lib_info = [('nltk', nltkv), ('numpy', np.__version__), ('keras', kv), ('pandas', pd.__version__),\n",
    "            ('sklearn', skv), ('mlxtend', mlxv), ('matplotlib', mpv), ('Jupyter Notebook (notebook)', nbv)]\n",
    "\n",
    "print('Library Versions\\n' + '='*16)\n",
    "\n",
    "for name, vers in lib_info:\n",
    "    print('{:>27} = {}'.format(name, vers))"
   ]
  },
  {
   "cell_type": "markdown",
   "metadata": {},
   "source": [
    "<a id='Classes'></a>\n",
    "## Classes"
   ]
  },
  {
   "cell_type": "code",
   "execution_count": 2,
   "metadata": {
    "ExecuteTime": {
     "end_time": "2021-11-06T04:11:38.517991Z",
     "start_time": "2021-11-06T04:11:38.506009Z"
    }
   },
   "outputs": [],
   "source": [
    "class TextNormalizer():\n",
    "    def __init__(self, data, stop_words):\n",
    "        self.data = data\n",
    "        self.stop_words = stop_words\n",
    "        self.porter = PorterStemmer()\n",
    "    \n",
    "    def lower_txt(self, data):\n",
    "        return data.apply(lambda s: s.lower() if type(s) == str else s)\n",
    "        \n",
    "    def remove_punct(self, data):\n",
    "        punctuation = dict.fromkeys(i for i in range(sys.maxunicode) if unicodedata.category(chr(i)).startswith('P'))\n",
    "\n",
    "        return data.apply(lambda s: str(s).translate(punctuation))\n",
    "    \n",
    "    def remove_stopword(self, data):\n",
    "        return [' '.join([word for word in s.split()\n",
    "                          if word not in self.stop_words])\n",
    "                for s in data]\n",
    "    \n",
    "    def word_stem(self, data):\n",
    "        return data.apply(lambda word: self.porter.stem(str(word)))"
   ]
  },
  {
   "cell_type": "markdown",
   "metadata": {},
   "source": [
    "<a id='Clean_Data'></a>\n",
    "## Load and Clean Comment Data\n",
    "\n",
    "Shuffle the data randomly and select the first 3,000 rows to reduce the data size and speed up analysis (the neural net takes awhile to train with large sets of data)"
   ]
  },
  {
   "cell_type": "code",
   "execution_count": 3,
   "metadata": {
    "ExecuteTime": {
     "end_time": "2021-11-06T04:11:41.265423Z",
     "start_time": "2021-11-06T04:11:38.523986Z"
    },
    "scrolled": true
   },
   "outputs": [
    {
     "data": {
      "text/html": [
       "<div>\n",
       "<style scoped>\n",
       "    .dataframe tbody tr th:only-of-type {\n",
       "        vertical-align: middle;\n",
       "    }\n",
       "\n",
       "    .dataframe tbody tr th {\n",
       "        vertical-align: top;\n",
       "    }\n",
       "\n",
       "    .dataframe thead th {\n",
       "        text-align: right;\n",
       "    }\n",
       "</style>\n",
       "<table border=\"1\" class=\"dataframe\">\n",
       "  <thead>\n",
       "    <tr style=\"text-align: right;\">\n",
       "      <th></th>\n",
       "      <th>cat</th>\n",
       "      <th>txt</th>\n",
       "    </tr>\n",
       "  </thead>\n",
       "  <tbody>\n",
       "    <tr>\n",
       "      <th>0</th>\n",
       "      <td>sports</td>\n",
       "      <td>True, but their top 3 is stacked. \\n\\nCouldn't...</td>\n",
       "    </tr>\n",
       "    <tr>\n",
       "      <th>1</th>\n",
       "      <td>video_games</td>\n",
       "      <td>I had the most fun in halo in custom games</td>\n",
       "    </tr>\n",
       "    <tr>\n",
       "      <th>2</th>\n",
       "      <td>video_games</td>\n",
       "      <td>[removed]</td>\n",
       "    </tr>\n",
       "    <tr>\n",
       "      <th>3</th>\n",
       "      <td>video_games</td>\n",
       "      <td>So, whats the point of pushing the payload now?</td>\n",
       "    </tr>\n",
       "    <tr>\n",
       "      <th>4</th>\n",
       "      <td>sports</td>\n",
       "      <td>His normal card is already OP  so this one is ...</td>\n",
       "    </tr>\n",
       "  </tbody>\n",
       "</table>\n",
       "</div>"
      ],
      "text/plain": [
       "           cat                                                txt\n",
       "0       sports  True, but their top 3 is stacked. \\n\\nCouldn't...\n",
       "1  video_games        I had the most fun in halo in custom games \n",
       "2  video_games                                          [removed]\n",
       "3  video_games    So, whats the point of pushing the payload now?\n",
       "4       sports  His normal card is already OP  so this one is ..."
      ]
     },
     "execution_count": 3,
     "metadata": {},
     "output_type": "execute_result"
    }
   ],
   "source": [
    "commentData = pd.read_json('Comment_Data/categorized-comments.jsonl', lines=True)\n",
    "\n",
    "seed = 34\n",
    "commentData = commentData.sample(frac=1, random_state=seed)[:3000].reset_index(drop=True)\n",
    "\n",
    "commentData.head()"
   ]
  },
  {
   "cell_type": "code",
   "execution_count": 4,
   "metadata": {
    "ExecuteTime": {
     "end_time": "2021-11-06T04:11:41.281397Z",
     "start_time": "2021-11-06T04:11:41.270405Z"
    }
   },
   "outputs": [
    {
     "name": "stdout",
     "output_type": "stream",
     "text": [
      "The shape of the data is: 3,000 rows and 2 columns\n"
     ]
    }
   ],
   "source": [
    "print('The shape of the data is: {:,} rows and {:,} columns'.format(commentData.shape[0], commentData.shape[1]))"
   ]
  },
  {
   "cell_type": "markdown",
   "metadata": {},
   "source": [
    "<a id='Clean_Text'></a>\n",
    "### Clean Text Data: Lower, Remove Punctuation, Remove Stopwords and Stem Words"
   ]
  },
  {
   "cell_type": "code",
   "execution_count": 5,
   "metadata": {
    "ExecuteTime": {
     "end_time": "2021-11-06T04:11:42.121235Z",
     "start_time": "2021-11-06T04:11:41.284400Z"
    }
   },
   "outputs": [],
   "source": [
    "stop_words = stopwords.words('english')\n",
    "txtNorm = TextNormalizer(commentData['txt'], stop_words)\n",
    "\n",
    "commentData['lower'] = txtNorm.lower_txt(txtNorm.data)\n",
    "commentData['no_punc'] = txtNorm.remove_punct(commentData['lower'])\n",
    "commentData['rem_stopwords'] = txtNorm.remove_stopword(commentData['no_punc'])\n",
    "commentData['word_stem'] = txtNorm.word_stem(commentData['rem_stopwords'])"
   ]
  },
  {
   "cell_type": "markdown",
   "metadata": {},
   "source": [
    "<a id='Split_Dataset'></a>\n",
    "### Split Data Into Train and Test Sets"
   ]
  },
  {
   "cell_type": "code",
   "execution_count": 6,
   "metadata": {
    "ExecuteTime": {
     "end_time": "2021-11-06T04:11:42.137238Z",
     "start_time": "2021-11-06T04:11:42.123232Z"
    }
   },
   "outputs": [],
   "source": [
    "x_train, x_test, y_train, y_test = train_test_split(commentData['word_stem'],\n",
    "                                                    commentData['cat'],\n",
    "                                                    train_size=0.70,\n",
    "                                                    random_state=seed)"
   ]
  },
  {
   "cell_type": "markdown",
   "metadata": {},
   "source": [
    "<a id='Train_Set'></a>\n",
    "#### Training Set: Feature Data"
   ]
  },
  {
   "cell_type": "code",
   "execution_count": 7,
   "metadata": {
    "ExecuteTime": {
     "end_time": "2021-11-06T04:11:42.168208Z",
     "start_time": "2021-11-06T04:11:42.139221Z"
    }
   },
   "outputs": [
    {
     "data": {
      "text/plain": [
       "988     ok well wont ever agree pcconsole thing bother...\n",
       "1788    ive able technically replace iphone battery it...\n",
       "1782                           dunno timestamp works 2100\n",
       "2410    nooooooooooooooooooooooooooooooooooooooooooooo...\n",
       "1540                             blizzard whimsical today\n",
       "Name: word_stem, dtype: object"
      ]
     },
     "execution_count": 7,
     "metadata": {},
     "output_type": "execute_result"
    }
   ],
   "source": [
    "x_train.head()"
   ]
  },
  {
   "cell_type": "markdown",
   "metadata": {},
   "source": [
    "<a id='Test_Set'></a>\n",
    "#### Training Set: Target Data"
   ]
  },
  {
   "cell_type": "code",
   "execution_count": 8,
   "metadata": {
    "ExecuteTime": {
     "end_time": "2021-11-06T04:11:42.184202Z",
     "start_time": "2021-11-06T04:11:42.171204Z"
    },
    "scrolled": false
   },
   "outputs": [
    {
     "data": {
      "text/plain": [
       "988     video_games\n",
       "1788    video_games\n",
       "1782    video_games\n",
       "2410         sports\n",
       "1540    video_games\n",
       "Name: cat, dtype: object"
      ]
     },
     "execution_count": 8,
     "metadata": {},
     "output_type": "execute_result"
    }
   ],
   "source": [
    "y_train.head()"
   ]
  },
  {
   "cell_type": "markdown",
   "metadata": {},
   "source": [
    "<a id='Part_1'></a>\n",
    "# Part 1: Neural Network Classifier with Scikit\n",
    "\n",
    "Fit a neural network classifier using scikit-learn on the comments dataset, report: accuracy, precision, recall, F1-score, and confusion matrix.\n",
    "\n",
    "<a id='Part_1-Scikit_Pipe'></a>\n",
    "## Create Model Classification Pipeline with TfidfVectorizer and MLPClassifier (Neural Net)"
   ]
  },
  {
   "cell_type": "code",
   "execution_count": 9,
   "metadata": {
    "ExecuteTime": {
     "end_time": "2021-11-06T04:11:42.200207Z",
     "start_time": "2021-11-06T04:11:42.187196Z"
    }
   },
   "outputs": [],
   "source": [
    "classifier = Pipeline(steps=([\n",
    "    ('tfidf', TfidfVectorizer()),\n",
    "    ('clf', MLPClassifier(hidden_layer_sizes=(6, 2), random_state=seed))\n",
    "]))"
   ]
  },
  {
   "cell_type": "markdown",
   "metadata": {},
   "source": [
    "<a id='Part_1-Scikit_Grid'></a>\n",
    "## Setup Parameter Grid and Fit Pipeline and Parameters to GridSearchCV"
   ]
  },
  {
   "cell_type": "code",
   "execution_count": 10,
   "metadata": {
    "ExecuteTime": {
     "end_time": "2021-11-06T04:11:42.215178Z",
     "start_time": "2021-11-06T04:11:42.207182Z"
    }
   },
   "outputs": [],
   "source": [
    "param_grid = {'clf__activation': ['identity', 'logistic', 'tanh', 'relu'],\n",
    "              'clf__learning_rate': ['constant', 'invscaling', 'adaptive'],\n",
    "              'clf__solver': ['lbfgs', 'sgd', 'adam'],\n",
    "              'clf__alpha': [1e-4, 1e-5, 1e-6]\n",
    "             }\n",
    "\n",
    "class_grid = GridSearchCV(classifier, param_grid = param_grid, cv = 5, n_jobs = -1, verbose=2)"
   ]
  },
  {
   "cell_type": "markdown",
   "metadata": {},
   "source": [
    "<a id='Part_1-Scikit_Fit_Grid'></a>\n",
    "## Fit Training Data to Classification Grid to Find the Best Parameters for the Model"
   ]
  },
  {
   "cell_type": "code",
   "execution_count": 11,
   "metadata": {
    "ExecuteTime": {
     "end_time": "2021-11-06T04:19:41.383061Z",
     "start_time": "2021-11-06T04:11:42.219176Z"
    },
    "scrolled": false
   },
   "outputs": [
    {
     "name": "stdout",
     "output_type": "stream",
     "text": [
      "Fitting 5 folds for each of 108 candidates, totalling 540 fits\n"
     ]
    },
    {
     "name": "stderr",
     "output_type": "stream",
     "text": [
      "[Parallel(n_jobs=-1)]: Using backend LokyBackend with 8 concurrent workers.\n",
      "[Parallel(n_jobs=-1)]: Done  25 tasks      | elapsed:   29.4s\n",
      "[Parallel(n_jobs=-1)]: Done 146 tasks      | elapsed:  2.2min\n",
      "[Parallel(n_jobs=-1)]: Done 349 tasks      | elapsed:  5.0min\n",
      "[Parallel(n_jobs=-1)]: Done 540 out of 540 | elapsed:  7.9min finished\n"
     ]
    },
    {
     "data": {
      "text/plain": [
       "GridSearchCV(cv=5,\n",
       "             estimator=Pipeline(steps=[('tfidf', TfidfVectorizer()),\n",
       "                                       ('clf',\n",
       "                                        MLPClassifier(hidden_layer_sizes=(6, 2),\n",
       "                                                      random_state=34))]),\n",
       "             n_jobs=-1,\n",
       "             param_grid={'clf__activation': ['identity', 'logistic', 'tanh',\n",
       "                                             'relu'],\n",
       "                         'clf__alpha': [0.0001, 1e-05, 1e-06],\n",
       "                         'clf__learning_rate': ['constant', 'invscaling',\n",
       "                                                'adaptive'],\n",
       "                         'clf__solver': ['lbfgs', 'sgd', 'adam']},\n",
       "             verbose=2)"
      ]
     },
     "execution_count": 11,
     "metadata": {},
     "output_type": "execute_result"
    }
   ],
   "source": [
    "class_grid.fit(x_train, y_train)"
   ]
  },
  {
   "cell_type": "markdown",
   "metadata": {},
   "source": [
    "<a id='Part_1-Scikit_Top_Scores'></a>\n",
    "## Display Top Model Scores Found by GridSearchCV"
   ]
  },
  {
   "cell_type": "code",
   "execution_count": 12,
   "metadata": {
    "ExecuteTime": {
     "end_time": "2021-11-06T04:19:41.410095Z",
     "start_time": "2021-11-06T04:19:41.386052Z"
    }
   },
   "outputs": [
    {
     "data": {
      "text/html": [
       "<div>\n",
       "<style scoped>\n",
       "    .dataframe tbody tr th:only-of-type {\n",
       "        vertical-align: middle;\n",
       "    }\n",
       "\n",
       "    .dataframe tbody tr th {\n",
       "        vertical-align: top;\n",
       "    }\n",
       "\n",
       "    .dataframe thead th {\n",
       "        text-align: right;\n",
       "    }\n",
       "</style>\n",
       "<table border=\"1\" class=\"dataframe\">\n",
       "  <thead>\n",
       "    <tr style=\"text-align: right;\">\n",
       "      <th></th>\n",
       "      <th>params</th>\n",
       "      <th>mean_test_score</th>\n",
       "    </tr>\n",
       "  </thead>\n",
       "  <tbody>\n",
       "    <tr>\n",
       "      <th>53</th>\n",
       "      <td>{'clf__activation': 'logistic', 'clf__alpha': ...</td>\n",
       "      <td>0.734762</td>\n",
       "    </tr>\n",
       "    <tr>\n",
       "      <th>50</th>\n",
       "      <td>{'clf__activation': 'logistic', 'clf__alpha': ...</td>\n",
       "      <td>0.734762</td>\n",
       "    </tr>\n",
       "    <tr>\n",
       "      <th>32</th>\n",
       "      <td>{'clf__activation': 'logistic', 'clf__alpha': ...</td>\n",
       "      <td>0.734762</td>\n",
       "    </tr>\n",
       "    <tr>\n",
       "      <th>35</th>\n",
       "      <td>{'clf__activation': 'logistic', 'clf__alpha': ...</td>\n",
       "      <td>0.734762</td>\n",
       "    </tr>\n",
       "    <tr>\n",
       "      <th>38</th>\n",
       "      <td>{'clf__activation': 'logistic', 'clf__alpha': ...</td>\n",
       "      <td>0.734762</td>\n",
       "    </tr>\n",
       "    <tr>\n",
       "      <th>41</th>\n",
       "      <td>{'clf__activation': 'logistic', 'clf__alpha': ...</td>\n",
       "      <td>0.734762</td>\n",
       "    </tr>\n",
       "    <tr>\n",
       "      <th>44</th>\n",
       "      <td>{'clf__activation': 'logistic', 'clf__alpha': ...</td>\n",
       "      <td>0.734762</td>\n",
       "    </tr>\n",
       "    <tr>\n",
       "      <th>47</th>\n",
       "      <td>{'clf__activation': 'logistic', 'clf__alpha': ...</td>\n",
       "      <td>0.734762</td>\n",
       "    </tr>\n",
       "    <tr>\n",
       "      <th>29</th>\n",
       "      <td>{'clf__activation': 'logistic', 'clf__alpha': ...</td>\n",
       "      <td>0.734762</td>\n",
       "    </tr>\n",
       "    <tr>\n",
       "      <th>5</th>\n",
       "      <td>{'clf__activation': 'identity', 'clf__alpha': ...</td>\n",
       "      <td>0.730952</td>\n",
       "    </tr>\n",
       "  </tbody>\n",
       "</table>\n",
       "</div>"
      ],
      "text/plain": [
       "                                               params  mean_test_score\n",
       "53  {'clf__activation': 'logistic', 'clf__alpha': ...         0.734762\n",
       "50  {'clf__activation': 'logistic', 'clf__alpha': ...         0.734762\n",
       "32  {'clf__activation': 'logistic', 'clf__alpha': ...         0.734762\n",
       "35  {'clf__activation': 'logistic', 'clf__alpha': ...         0.734762\n",
       "38  {'clf__activation': 'logistic', 'clf__alpha': ...         0.734762\n",
       "41  {'clf__activation': 'logistic', 'clf__alpha': ...         0.734762\n",
       "44  {'clf__activation': 'logistic', 'clf__alpha': ...         0.734762\n",
       "47  {'clf__activation': 'logistic', 'clf__alpha': ...         0.734762\n",
       "29  {'clf__activation': 'logistic', 'clf__alpha': ...         0.734762\n",
       "5   {'clf__activation': 'identity', 'clf__alpha': ...         0.730952"
      ]
     },
     "execution_count": 12,
     "metadata": {},
     "output_type": "execute_result"
    }
   ],
   "source": [
    "pd.DataFrame(class_grid.cv_results_).sort_values('mean_test_score', \n",
    "                                                 ascending=False)[['params', 'mean_test_score']].head(10)"
   ]
  },
  {
   "cell_type": "markdown",
   "metadata": {},
   "source": [
    "<a id='Part_1-Scikit_Best_Scores'></a>\n",
    "## Best Score Found From Classification Grid"
   ]
  },
  {
   "cell_type": "code",
   "execution_count": 13,
   "metadata": {
    "ExecuteTime": {
     "end_time": "2021-11-06T04:19:41.425072Z",
     "start_time": "2021-11-06T04:19:41.413080Z"
    }
   },
   "outputs": [
    {
     "data": {
      "text/plain": [
       "0.7348"
      ]
     },
     "execution_count": 13,
     "metadata": {},
     "output_type": "execute_result"
    }
   ],
   "source": [
    "round(class_grid.best_score_, 4)"
   ]
  },
  {
   "cell_type": "markdown",
   "metadata": {},
   "source": [
    "<a id='Part_1-Scikit_Best_Params'></a>\n",
    "## Best Parameters Found from Classification Grid"
   ]
  },
  {
   "cell_type": "code",
   "execution_count": 14,
   "metadata": {
    "ExecuteTime": {
     "end_time": "2021-11-06T04:19:41.440065Z",
     "start_time": "2021-11-06T04:19:41.427073Z"
    }
   },
   "outputs": [
    {
     "name": "stdout",
     "output_type": "stream",
     "text": [
      "Best Classification Parameters\n",
      "==============================\n",
      "      activation: logistic\n",
      "           alpha: 0.0001\n",
      "   learning_rate: constant\n",
      "          solver: adam\n"
     ]
    }
   ],
   "source": [
    "print('Best Classification Parameters\\n' + '='*30)\n",
    "\n",
    "for name, val in class_grid.best_params_.items():\n",
    "    print('{:>16}: {}'.format(name.replace('clf__', ''), val))"
   ]
  },
  {
   "cell_type": "markdown",
   "metadata": {},
   "source": [
    "<a id='Part_1-Scikit_Predict_Grid'></a>\n",
    "## Make Predictions Using Classification Grid"
   ]
  },
  {
   "cell_type": "code",
   "execution_count": 15,
   "metadata": {
    "ExecuteTime": {
     "end_time": "2021-11-06T04:19:41.487153Z",
     "start_time": "2021-11-06T04:19:41.442062Z"
    }
   },
   "outputs": [],
   "source": [
    "y_pred = class_grid.predict(x_test)"
   ]
  },
  {
   "cell_type": "markdown",
   "metadata": {},
   "source": [
    "<a id='Part_1-Scikit_Metric_Scores'></a>\n",
    "## Calculate Model Prediction Metric Scores: Accuracy, Precision, Recall, and F1"
   ]
  },
  {
   "cell_type": "code",
   "execution_count": 16,
   "metadata": {
    "ExecuteTime": {
     "end_time": "2021-11-06T04:19:41.550273Z",
     "start_time": "2021-11-06T04:19:41.490149Z"
    }
   },
   "outputs": [
    {
     "name": "stdout",
     "output_type": "stream",
     "text": [
      "Model Classification Metric Scores\n",
      "==================================\n",
      "\t Accuracy: 75.00%\n",
      "\tPrecision: 69.47%\n",
      "\t   Recall: 75.00%\n",
      "\t       F1: 70.75%\n"
     ]
    }
   ],
   "source": [
    "accScore = round(accuracy_score(y_test, y_pred), 4) * 100\n",
    "precScore = round(precision_score(y_test, y_pred, average='weighted', zero_division=0), 4) * 100\n",
    "recallScore = round(recall_score(y_test, y_pred, average='weighted'), 4) * 100\n",
    "f1_Score = round(f1_score(y_test, y_pred, average='weighted'), 4) * 100\n",
    "\n",
    "print('Model Classification Metric Scores\\n' + '='*34 + \n",
    "      '\\n\\t Accuracy: {:,.2f}%\\n\\tPrecision: {:,.2f}%\\n\\t   Recall: {:,.2f}%\\n\\t       F1: {:,.2f}%'\n",
    "      .format(accScore, precScore, recallScore, f1_Score))"
   ]
  },
  {
   "cell_type": "markdown",
   "metadata": {},
   "source": [
    "<a id='Part_1-Scikit_Conf_Mat'></a>\n",
    "## Create a Confusion Matrix with the Model Predictions"
   ]
  },
  {
   "cell_type": "code",
   "execution_count": 17,
   "metadata": {
    "ExecuteTime": {
     "end_time": "2021-11-06T04:19:42.005001Z",
     "start_time": "2021-11-06T04:19:41.553272Z"
    }
   },
   "outputs": [
    {
     "data": {
      "text/plain": [
       "Text(0, 0.5, 'Actual')"
      ]
     },
     "execution_count": 17,
     "metadata": {},
     "output_type": "execute_result"
    },
    {
     "data": {
      "image/png": "[encoded data removed]",
      "text/plain": [
       "<Figure size 1152x720 with 1 Axes>"
      ]
     },
     "metadata": {
      "needs_background": "light"
     },
     "output_type": "display_data"
    }
   ],
   "source": [
    "plt.rcParams['figure.figsize'] = (16, 10)\n",
    "plt.rcParams.update({'font.size': 16})\n",
    "\n",
    "plot_confusion_matrix(conf_mat=confusion_matrix(y_test, y_pred), \n",
    "                      class_names=['Science and Technology', 'Sports', 'Video Games'], \n",
    "                      cmap=plt.cm.Blues)\n",
    "\n",
    "plt.title('Confusion Matrix')\n",
    "plt.xlabel('Predicted')\n",
    "plt.ylabel('Actual')"
   ]
  },
  {
   "cell_type": "markdown",
   "metadata": {},
   "source": [
    "We can see that model mostly identifies comments as belonging to the \"Video Games\" category and interestingly enough, nothing to the \"Science and Technology\" Category.\n",
    "\n",
    "<a id='Part_2'></a>\n",
    "# Part 2: Neural Network Classifier with Keras\n",
    "\n",
    "Fit a neural network classifier using Keras on the comments dataset, report: accuracy, precision, recall, F1-score, and confusion matrix.\n",
    "\n",
    "<a id='Part_2-Build_Keras'></a>\n",
    "## Create Function to Build Keras Neural Net"
   ]
  },
  {
   "cell_type": "code",
   "execution_count": 18,
   "metadata": {
    "ExecuteTime": {
     "end_time": "2021-11-06T04:19:42.019988Z",
     "start_time": "2021-11-06T04:19:42.007994Z"
    }
   },
   "outputs": [],
   "source": [
    "n_features = x_train.shape[0]\n",
    "n_classes = len(y_train.unique())\n",
    "\n",
    "def build_network():\n",
    "    nn = Sequential()\n",
    "    nn.add(Dense(250, activation='relu', input_dim=(n_features)))\n",
    "    nn.add(Dense(100, activation='relu'))\n",
    "    nn.add(Dense(n_classes, activation='softmax'))\n",
    "    \n",
    "    nn.compile(\n",
    "        loss='categorical_crossentropy',\n",
    "        optimizer='adam',\n",
    "        metrics=['accuracy']\n",
    "    )\n",
    "    \n",
    "    return nn"
   ]
  },
  {
   "cell_type": "markdown",
   "metadata": {},
   "source": [
    "<a id='Part_2-Create_Keras_Class'></a>\n",
    "## Create TfidfVectorizer and KerasClassifier (Neural Net) Models"
   ]
  },
  {
   "cell_type": "code",
   "execution_count": 19,
   "metadata": {
    "ExecuteTime": {
     "end_time": "2021-11-06T04:19:42.035119Z",
     "start_time": "2021-11-06T04:19:42.022987Z"
    }
   },
   "outputs": [],
   "source": [
    "vect = TfidfVectorizer(max_features=n_features)\n",
    "\n",
    "keras_model = KerasClassifier(build_fn=build_network)"
   ]
  },
  {
   "cell_type": "markdown",
   "metadata": {},
   "source": [
    "<a id='Part_2-Keras_Vect_Fit'></a>\n",
    "## TfidfVectorize and fit_transform Training and Test Sets"
   ]
  },
  {
   "cell_type": "code",
   "execution_count": 20,
   "metadata": {
    "ExecuteTime": {
     "end_time": "2021-11-06T04:19:42.223343Z",
     "start_time": "2021-11-06T04:19:42.039118Z"
    }
   },
   "outputs": [],
   "source": [
    "x_train_vect = vect.fit_transform(x_train).todense()\n",
    "x_test_vect = vect.fit_transform(x_test).todense()"
   ]
  },
  {
   "cell_type": "markdown",
   "metadata": {},
   "source": [
    "<a id='Part_2-Keras_Grid'></a>\n",
    "## Setup Parameter Grid and Fit the Pipeline and Parameters to GridSearchCV"
   ]
  },
  {
   "cell_type": "code",
   "execution_count": 21,
   "metadata": {
    "ExecuteTime": {
     "end_time": "2021-11-06T04:19:42.238961Z",
     "start_time": "2021-11-06T04:19:42.226344Z"
    },
    "scrolled": true
   },
   "outputs": [],
   "source": [
    "param_grid = {'epochs': [10, 25, 50],\n",
    "              'batch_size': [10, 25, 50]}\n",
    "\n",
    "keras_grid = GridSearchCV(keras_model, param_grid = param_grid, cv = 5, n_jobs = -1, verbose=2)"
   ]
  },
  {
   "cell_type": "markdown",
   "metadata": {},
   "source": [
    "<a id='Part_2-Keras_Fit_Tfid'></a>\n",
    "## Fit TfidfVectorized Training data to Keras Grid to Find the Best Parameters for the Model"
   ]
  },
  {
   "cell_type": "code",
   "execution_count": 22,
   "metadata": {
    "ExecuteTime": {
     "end_time": "2021-11-06T04:24:38.225432Z",
     "start_time": "2021-11-06T04:19:42.240960Z"
    },
    "scrolled": false
   },
   "outputs": [
    {
     "name": "stdout",
     "output_type": "stream",
     "text": [
      "Fitting 5 folds for each of 9 candidates, totalling 45 fits\n"
     ]
    },
    {
     "name": "stderr",
     "output_type": "stream",
     "text": [
      "[Parallel(n_jobs=-1)]: Using backend LokyBackend with 8 concurrent workers.\n",
      "[Parallel(n_jobs=-1)]: Done  25 tasks      | elapsed:  3.4min\n",
      "[Parallel(n_jobs=-1)]: Done  45 out of  45 | elapsed:  4.6min finished\n"
     ]
    },
    {
     "name": "stdout",
     "output_type": "stream",
     "text": [
      "Epoch 1/25\n",
      "210/210 [==============================] - 1s 4ms/step - loss: 0.7951 - accuracy: 0.6824\n",
      "Epoch 2/25\n",
      "210/210 [==============================] - 1s 4ms/step - loss: 0.5166 - accuracy: 0.7669\n",
      "Epoch 3/25\n",
      "210/210 [==============================] - 1s 4ms/step - loss: 0.2605 - accuracy: 0.8958\n",
      "Epoch 4/25\n",
      "210/210 [==============================] - 1s 4ms/step - loss: 0.1531 - accuracy: 0.9487\n",
      "Epoch 5/25\n",
      "210/210 [==============================] - 1s 4ms/step - loss: 0.1145 - accuracy: 0.9583\n",
      "Epoch 6/25\n",
      "210/210 [==============================] - 1s 4ms/step - loss: 0.0898 - accuracy: 0.9685\n",
      "Epoch 7/25\n",
      "210/210 [==============================] - 1s 4ms/step - loss: 0.0977 - accuracy: 0.9600\n",
      "Epoch 8/25\n",
      "210/210 [==============================] - 1s 4ms/step - loss: 0.0889 - accuracy: 0.9653\n",
      "Epoch 9/25\n",
      "210/210 [==============================] - 1s 4ms/step - loss: 0.0864 - accuracy: 0.9657\n",
      "Epoch 10/25\n",
      "210/210 [==============================] - 1s 4ms/step - loss: 0.0969 - accuracy: 0.9578\n",
      "Epoch 11/25\n",
      "210/210 [==============================] - 1s 4ms/step - loss: 0.0791 - accuracy: 0.9690\n",
      "Epoch 12/25\n",
      "210/210 [==============================] - 1s 4ms/step - loss: 0.0913 - accuracy: 0.9588\n",
      "Epoch 13/25\n",
      "210/210 [==============================] - 1s 4ms/step - loss: 0.0923 - accuracy: 0.9627\n",
      "Epoch 14/25\n",
      "210/210 [==============================] - 1s 4ms/step - loss: 0.0847 - accuracy: 0.9669\n",
      "Epoch 15/25\n",
      "210/210 [==============================] - 1s 4ms/step - loss: 0.0818 - accuracy: 0.9657\n",
      "Epoch 16/25\n",
      "210/210 [==============================] - 1s 4ms/step - loss: 0.0752 - accuracy: 0.9717\n",
      "Epoch 17/25\n",
      "210/210 [==============================] - 1s 4ms/step - loss: 0.0834 - accuracy: 0.9626\n",
      "Epoch 18/25\n",
      "210/210 [==============================] - 1s 4ms/step - loss: 0.0924 - accuracy: 0.9583\n",
      "Epoch 19/25\n",
      "210/210 [==============================] - 1s 4ms/step - loss: 0.0867 - accuracy: 0.9625\n",
      "Epoch 20/25\n",
      "210/210 [==============================] - 1s 3ms/step - loss: 0.0801 - accuracy: 0.9651\n",
      "Epoch 21/25\n",
      "210/210 [==============================] - 1s 3ms/step - loss: 0.0862 - accuracy: 0.9647\n",
      "Epoch 22/25\n",
      "210/210 [==============================] - 1s 3ms/step - loss: 0.0815 - accuracy: 0.9670\n",
      "Epoch 23/25\n",
      "210/210 [==============================] - 1s 3ms/step - loss: 0.0793 - accuracy: 0.9687\n",
      "Epoch 24/25\n",
      "210/210 [==============================] - 1s 3ms/step - loss: 0.0799 - accuracy: 0.9679\n",
      "Epoch 25/25\n",
      "210/210 [==============================] - 1s 3ms/step - loss: 0.0803 - accuracy: 0.9665\n"
     ]
    },
    {
     "data": {
      "text/plain": [
       "GridSearchCV(cv=5,\n",
       "             estimator=<tensorflow.python.keras.wrappers.scikit_learn.KerasClassifier object at 0x0000028E2329AB80>,\n",
       "             n_jobs=-1,\n",
       "             param_grid={'batch_size': [10, 25, 50], 'epochs': [10, 25, 50]},\n",
       "             verbose=2)"
      ]
     },
     "execution_count": 22,
     "metadata": {},
     "output_type": "execute_result"
    }
   ],
   "source": [
    "keras_grid.fit(x_train_vect, y_train)"
   ]
  },
  {
   "cell_type": "markdown",
   "metadata": {},
   "source": [
    "<a id='Part_2-Keras_Top_Scores'></a>\n",
    "## Display Top Model Scores Found by GridSearchCV"
   ]
  },
  {
   "cell_type": "code",
   "execution_count": 23,
   "metadata": {
    "ExecuteTime": {
     "end_time": "2021-11-06T04:24:38.256465Z",
     "start_time": "2021-11-06T04:24:38.227431Z"
    }
   },
   "outputs": [
    {
     "data": {
      "text/html": [
       "<div>\n",
       "<style scoped>\n",
       "    .dataframe tbody tr th:only-of-type {\n",
       "        vertical-align: middle;\n",
       "    }\n",
       "\n",
       "    .dataframe tbody tr th {\n",
       "        vertical-align: top;\n",
       "    }\n",
       "\n",
       "    .dataframe thead th {\n",
       "        text-align: right;\n",
       "    }\n",
       "</style>\n",
       "<table border=\"1\" class=\"dataframe\">\n",
       "  <thead>\n",
       "    <tr style=\"text-align: right;\">\n",
       "      <th></th>\n",
       "      <th>params</th>\n",
       "      <th>mean_test_score</th>\n",
       "    </tr>\n",
       "  </thead>\n",
       "  <tbody>\n",
       "    <tr>\n",
       "      <th>1</th>\n",
       "      <td>{'batch_size': 10, 'epochs': 25}</td>\n",
       "      <td>0.723333</td>\n",
       "    </tr>\n",
       "    <tr>\n",
       "      <th>2</th>\n",
       "      <td>{'batch_size': 10, 'epochs': 50}</td>\n",
       "      <td>0.722857</td>\n",
       "    </tr>\n",
       "    <tr>\n",
       "      <th>4</th>\n",
       "      <td>{'batch_size': 25, 'epochs': 25}</td>\n",
       "      <td>0.722381</td>\n",
       "    </tr>\n",
       "    <tr>\n",
       "      <th>7</th>\n",
       "      <td>{'batch_size': 50, 'epochs': 25}</td>\n",
       "      <td>0.722381</td>\n",
       "    </tr>\n",
       "    <tr>\n",
       "      <th>0</th>\n",
       "      <td>{'batch_size': 10, 'epochs': 10}</td>\n",
       "      <td>0.721905</td>\n",
       "    </tr>\n",
       "    <tr>\n",
       "      <th>6</th>\n",
       "      <td>{'batch_size': 50, 'epochs': 10}</td>\n",
       "      <td>0.720000</td>\n",
       "    </tr>\n",
       "    <tr>\n",
       "      <th>8</th>\n",
       "      <td>{'batch_size': 50, 'epochs': 50}</td>\n",
       "      <td>0.718571</td>\n",
       "    </tr>\n",
       "    <tr>\n",
       "      <th>5</th>\n",
       "      <td>{'batch_size': 25, 'epochs': 50}</td>\n",
       "      <td>0.717143</td>\n",
       "    </tr>\n",
       "    <tr>\n",
       "      <th>3</th>\n",
       "      <td>{'batch_size': 25, 'epochs': 10}</td>\n",
       "      <td>0.716190</td>\n",
       "    </tr>\n",
       "  </tbody>\n",
       "</table>\n",
       "</div>"
      ],
      "text/plain": [
       "                             params  mean_test_score\n",
       "1  {'batch_size': 10, 'epochs': 25}         0.723333\n",
       "2  {'batch_size': 10, 'epochs': 50}         0.722857\n",
       "4  {'batch_size': 25, 'epochs': 25}         0.722381\n",
       "7  {'batch_size': 50, 'epochs': 25}         0.722381\n",
       "0  {'batch_size': 10, 'epochs': 10}         0.721905\n",
       "6  {'batch_size': 50, 'epochs': 10}         0.720000\n",
       "8  {'batch_size': 50, 'epochs': 50}         0.718571\n",
       "5  {'batch_size': 25, 'epochs': 50}         0.717143\n",
       "3  {'batch_size': 25, 'epochs': 10}         0.716190"
      ]
     },
     "execution_count": 23,
     "metadata": {},
     "output_type": "execute_result"
    }
   ],
   "source": [
    "pd.DataFrame(keras_grid.cv_results_).sort_values('mean_test_score', \n",
    "                                                 ascending=False)[['params', 'mean_test_score']].head(10)"
   ]
  },
  {
   "cell_type": "markdown",
   "metadata": {},
   "source": [
    "<a id='Part_2-Keras_Best_Score'></a>\n",
    "## Best Score Found from the Keras Grid"
   ]
  },
  {
   "cell_type": "code",
   "execution_count": 24,
   "metadata": {
    "ExecuteTime": {
     "end_time": "2021-11-06T04:24:38.272456Z",
     "start_time": "2021-11-06T04:24:38.259464Z"
    }
   },
   "outputs": [
    {
     "data": {
      "text/plain": [
       "0.7233"
      ]
     },
     "execution_count": 24,
     "metadata": {},
     "output_type": "execute_result"
    }
   ],
   "source": [
    "round(keras_grid.best_score_, 4)"
   ]
  },
  {
   "cell_type": "markdown",
   "metadata": {},
   "source": [
    "<a id='Part_2-Keras_Best_Params'></a>\n",
    "## Best Parameters Found from the Keras Grid"
   ]
  },
  {
   "cell_type": "code",
   "execution_count": 25,
   "metadata": {
    "ExecuteTime": {
     "end_time": "2021-11-06T04:24:38.287363Z",
     "start_time": "2021-11-06T04:24:38.276456Z"
    }
   },
   "outputs": [
    {
     "data": {
      "text/plain": [
       "{'batch_size': 10, 'epochs': 25}"
      ]
     },
     "execution_count": 25,
     "metadata": {},
     "output_type": "execute_result"
    }
   ],
   "source": [
    "keras_grid.best_params_"
   ]
  },
  {
   "cell_type": "markdown",
   "metadata": {},
   "source": [
    "<a id='Part_2-Keras_Predict'></a>\n",
    "## Make Predictions Using the Keras Grid"
   ]
  },
  {
   "cell_type": "code",
   "execution_count": 26,
   "metadata": {
    "ExecuteTime": {
     "end_time": "2021-11-06T04:24:38.558399Z",
     "start_time": "2021-11-06T04:24:38.292360Z"
    }
   },
   "outputs": [],
   "source": [
    "y_pred = keras_grid.predict(x_test_vect)"
   ]
  },
  {
   "cell_type": "markdown",
   "metadata": {},
   "source": [
    "<a id='Part_2-Keras_Metric_Scores'></a>\n",
    "## Calculate Model Prediction Metric Scores: Accuracy, Precision, Recall, and F1"
   ]
  },
  {
   "cell_type": "code",
   "execution_count": 27,
   "metadata": {
    "ExecuteTime": {
     "end_time": "2021-11-06T04:24:38.590378Z",
     "start_time": "2021-11-06T04:24:38.560395Z"
    }
   },
   "outputs": [
    {
     "name": "stdout",
     "output_type": "stream",
     "text": [
      "Model Keras Metric Scores\n",
      "=========================\n",
      "     Accuracy: 66.44%\n",
      "    Precision: 58.97%\n",
      "       Recall: 66.44%\n",
      "\t   F1: 61.92%\n"
     ]
    }
   ],
   "source": [
    "accScore = round(accuracy_score(y_test, y_pred), 4) * 100\n",
    "precScore = round(precision_score(y_test, y_pred, average='weighted', zero_division=0), 4) * 100\n",
    "recallScore = round(recall_score(y_test, y_pred, average='weighted'), 4) * 100\n",
    "f1_Score = round(f1_score(y_test, y_pred, average='weighted'), 4) * 100\n",
    "\n",
    "print('Model Keras Metric Scores\\n' + '='*25 + \n",
    "      '\\n     Accuracy: {:,.2f}%\\n    Precision: {:,.2f}%\\n       Recall: {:,.2f}%\\n\\t   F1: {:,.2f}%'\n",
    "      .format(accScore, precScore, recallScore, f1_Score))"
   ]
  },
  {
   "cell_type": "markdown",
   "metadata": {},
   "source": [
    "<a id='Part_2-Keras_Conf_Mat'></a>\n",
    "## Create a Confusion Matrix with the Model Predictions"
   ]
  },
  {
   "cell_type": "code",
   "execution_count": 28,
   "metadata": {
    "ExecuteTime": {
     "end_time": "2021-11-06T04:24:38.870991Z",
     "start_time": "2021-11-06T04:24:38.597457Z"
    },
    "scrolled": false
   },
   "outputs": [
    {
     "data": {
      "text/plain": [
       "Text(0, 0.5, 'Actual')"
      ]
     },
     "execution_count": 28,
     "metadata": {},
     "output_type": "execute_result"
    },
    {
     "data": {
      "image/png": "[encoded data removed]",
      "text/plain": [
       "<Figure size 1152x720 with 1 Axes>"
      ]
     },
     "metadata": {
      "needs_background": "light"
     },
     "output_type": "display_data"
    }
   ],
   "source": [
    "plt.rcParams['figure.figsize'] = (16, 10)\n",
    "plt.rcParams.update({'font.size': 16})\n",
    "\n",
    "plot_confusion_matrix(conf_mat=confusion_matrix(y_test, y_pred), \n",
    "                      class_names=['Science and Technology', 'Sports', 'Video Games'], \n",
    "                      cmap=plt.cm.Blues)\n",
    "\n",
    "plt.title('Confusion Matrix')\n",
    "plt.xlabel('Predicted')\n",
    "plt.ylabel('Actual')"
   ]
  },
  {
   "cell_type": "markdown",
   "metadata": {},
   "source": [
    "We can see, just like in the Scikit model, the Keras model mostly identified comments as belonging to the \"Video Games\" category but this time there were a few comments that were mistaken for the \"Science and Technology\" category.\n",
    "\n",
    "<a id='Part_3'></a>\n",
    "# Part 3: Classifying MNIST Images\n",
    "\n",
    "Classify MSINT images using a convolutional neural network and report the accuracy of the results.\n",
    "\n",
    "<a id='Part_3-Parse_Split'></a>\n",
    "## Parse and Split Image Dataset"
   ]
  },
  {
   "cell_type": "code",
   "execution_count": 29,
   "metadata": {
    "ExecuteTime": {
     "end_time": "2021-11-06T04:24:39.416478Z",
     "start_time": "2021-11-06T04:24:38.873990Z"
    }
   },
   "outputs": [],
   "source": [
    "# Set that the color channel value will be first\n",
    "K.set_image_data_format(\"channels_last\")\n",
    "\n",
    "# Set seed\n",
    "np.random.seed(0)\n",
    "\n",
    "# Set image information\n",
    "channels = 1\n",
    "height = 28\n",
    "width = 28\n",
    "\n",
    "# Load data and target from MNIST data\n",
    "(data_train, target_train), (data_test, target_test) = mnist.load_data()\n",
    "                                                                       \n",
    "# Reshape training image data into features\n",
    "data_train = data_train.reshape(data_train.shape[0], height, width, channels)\n",
    "\n",
    "# Reshape test image data into features\n",
    "data_test = data_test.reshape(data_test.shape[0], height, width, channels)\n",
    "\n",
    "# Rescale pixel intensity to between 0 and 1\n",
    "features_train = data_train / 255\n",
    "features_test = data_test / 255\n",
    "\n",
    "# One-hot encode target\n",
    "target_train = np_utils.to_categorical(target_train)\n",
    "target_test = np_utils.to_categorical(target_test)\n",
    "number_of_classes = target_test.shape[1]"
   ]
  },
  {
   "cell_type": "markdown",
   "metadata": {},
   "source": [
    "<a id='Part_3-Create_Model'></a>\n",
    "## Create Keras Image Classification Model"
   ]
  },
  {
   "cell_type": "code",
   "execution_count": 30,
   "metadata": {
    "ExecuteTime": {
     "end_time": "2021-11-06T04:24:39.510513Z",
     "start_time": "2021-11-06T04:24:39.419480Z"
    }
   },
   "outputs": [],
   "source": [
    "# Start neural network\n",
    "network = Sequential()\n",
    "\n",
    "# Add convolutional layer with 64 filters, a 5x5 window, and ReLU activation function\n",
    "network.add(Conv2D(filters=64, kernel_size=(5, 5), kernel_initializer='normal', padding='valid',\n",
    "                   input_shape=(width, height, channels), activation='relu'))\n",
    "\n",
    "# Add max pooling layer with a 2x2 window\n",
    "network.add(MaxPooling2D(pool_size=(2, 2)))\n",
    "\n",
    "# Add dropout layer\n",
    "network.add(Dropout(0.5))\n",
    "\n",
    "# Add layer to flatten input\n",
    "network.add(Flatten())\n",
    "\n",
    "# # Add fully connected layer of 128 units with a ReLU activation function\n",
    "network.add(Dense(128, activation=\"relu\"))\n",
    "\n",
    "# Add dropout layer\n",
    "network.add(Dropout(0.5))\n",
    "\n",
    "# Add fully connected layer with a softmax activation function\n",
    "network.add(Dense(number_of_classes, activation=\"softmax\"))\n",
    "\n",
    "# Compile neural network\n",
    "network.compile(loss=\"categorical_crossentropy\", # Cross-entropy\n",
    "                optimizer=\"rmsprop\", # Root Mean Square Propagation\n",
    "                metrics=[\"accuracy\"]) # Accuracy performance metric"
   ]
  },
  {
   "cell_type": "markdown",
   "metadata": {},
   "source": [
    "<a id='Part_3-Model_Summary'></a>\n",
    "## Model Summary"
   ]
  },
  {
   "cell_type": "code",
   "execution_count": 31,
   "metadata": {
    "ExecuteTime": {
     "end_time": "2021-11-06T04:24:39.525619Z",
     "start_time": "2021-11-06T04:24:39.512466Z"
    }
   },
   "outputs": [
    {
     "name": "stdout",
     "output_type": "stream",
     "text": [
      "Model: \"sequential_1\"\n",
      "_________________________________________________________________\n",
      "Layer (type)                 Output Shape              Param #   \n",
      "=================================================================\n",
      "conv2d (Conv2D)              (None, 24, 24, 64)        1664      \n",
      "_________________________________________________________________\n",
      "max_pooling2d (MaxPooling2D) (None, 12, 12, 64)        0         \n",
      "_________________________________________________________________\n",
      "dropout (Dropout)            (None, 12, 12, 64)        0         \n",
      "_________________________________________________________________\n",
      "flatten (Flatten)            (None, 9216)              0         \n",
      "_________________________________________________________________\n",
      "dense_3 (Dense)              (None, 128)               1179776   \n",
      "_________________________________________________________________\n",
      "dropout_1 (Dropout)          (None, 128)               0         \n",
      "_________________________________________________________________\n",
      "dense_4 (Dense)              (None, 10)                1290      \n",
      "=================================================================\n",
      "Total params: 1,182,730\n",
      "Trainable params: 1,182,730\n",
      "Non-trainable params: 0\n",
      "_________________________________________________________________\n"
     ]
    }
   ],
   "source": [
    "network.summary()"
   ]
  },
  {
   "cell_type": "markdown",
   "metadata": {},
   "source": [
    "<a id='Part_3-Train_Model'></a>\n",
    "## Train Keras Model"
   ]
  },
  {
   "cell_type": "code",
   "execution_count": 32,
   "metadata": {
    "ExecuteTime": {
     "end_time": "2021-11-06T04:25:34.964053Z",
     "start_time": "2021-11-06T04:24:39.528607Z"
    }
   },
   "outputs": [
    {
     "name": "stdout",
     "output_type": "stream",
     "text": [
      "Epoch 1/2\n",
      "60/60 - 29s - loss: 0.5862 - accuracy: 0.8183 - val_loss: 0.1747 - val_accuracy: 0.9515\n",
      "Epoch 2/2\n",
      "60/60 - 26s - loss: 0.1977 - accuracy: 0.9424 - val_loss: 0.0870 - val_accuracy: 0.9730\n"
     ]
    }
   ],
   "source": [
    "# Train neural network\n",
    "history = network.fit(features_train, # Features\n",
    "                      target_train, # Target\n",
    "                      epochs=2, # Number of epochs\n",
    "                      verbose=2, # Print description after each epoch\n",
    "                      batch_size=1000, # Number of observations per batch\n",
    "                      validation_data=(features_test, target_test)) # Data for evaluation"
   ]
  },
  {
   "cell_type": "markdown",
   "metadata": {},
   "source": [
    "<a id='Part_3-Keras_Acc_Loss_Scores'></a>\n",
    "## Display Accuracy and Loss Scores "
   ]
  },
  {
   "cell_type": "code",
   "execution_count": 33,
   "metadata": {
    "ExecuteTime": {
     "end_time": "2021-11-06T04:25:34.979280Z",
     "start_time": "2021-11-06T04:25:34.966051Z"
    }
   },
   "outputs": [
    {
     "name": "stdout",
     "output_type": "stream",
     "text": [
      "  Keras Image Classification Accuracies\n",
      "=========================================\n",
      "Epoch 1: Accuracy = 81.83%, Loss = 58.62%\n",
      "Epoch 2: Accuracy = 94.24%, Loss = 19.77%\n"
     ]
    }
   ],
   "source": [
    "print('  Keras Image Classification Accuracies\\n' + '='*41)\n",
    "\n",
    "for index, (acc, loss) in enumerate(zip(history.history['accuracy'], history.history['loss'])):\n",
    "    print('Epoch {:}: Accuracy = {:,.2f}%, Loss = {:,.2f}%'.format(index + 1, acc * 100, loss * 100))"
   ]
  },
  {
   "cell_type": "markdown",
   "metadata": {},
   "source": [
    "The model ended with an accuracy score of `~94%`, which is excellent considering it only ran for 2 epochs. "
   ]
  },
  {
   "cell_type": "code",
   "execution_count": null,
   "metadata": {},
   "outputs": [],
   "source": []
  }
 ],
 "metadata": {
  "kernelspec": {
   "display_name": "Python 3 (ipykernel)",
   "language": "python",
   "name": "python3"
  },
  "language_info": {
   "codemirror_mode": {
    "name": "ipython",
    "version": 3
   },
   "file_extension": ".py",
   "mimetype": "text/x-python",
   "name": "python",
   "nbconvert_exporter": "python",
   "pygments_lexer": "ipython3",
   "version": "3.8.2"
  },
  "toc": {
   "base_numbering": 1,
   "nav_menu": {},
   "number_sections": false,
   "sideBar": true,
   "skip_h1_title": false,
   "title_cell": "Table of Contents",
   "title_sidebar": "Contents",
   "toc_cell": false,
   "toc_position": {},
   "toc_section_display": true,
   "toc_window_display": true
  },
  "varInspector": {
   "cols": {
    "lenName": 16,
    "lenType": 16,
    "lenVar": 40
   },
   "kernels_config": {
    "python": {
     "delete_cmd_postfix": "",
     "delete_cmd_prefix": "del ",
     "library": "var_list.py",
     "varRefreshCmd": "print(var_dic_list())"
    },
    "r": {
     "delete_cmd_postfix": ") ",
     "delete_cmd_prefix": "rm(",
     "library": "var_list.r",
     "varRefreshCmd": "cat(var_dic_list()) "
    }
   },
   "position": {
    "height": "609.85px",
    "left": "1550px",
    "right": "20px",
    "top": "120px",
    "width": "350px"
   },
   "types_to_exclude": [
    "module",
    "function",
    "builtin_function_or_method",
    "instance",
    "_Feature"
   ],
   "window_display": true
  }
 },
 "nbformat": 4,
 "nbformat_minor": 4
}
